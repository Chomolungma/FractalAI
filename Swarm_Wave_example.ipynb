{
 "cells": [
  {
   "cell_type": "code",
   "execution_count": 1,
   "metadata": {},
   "outputs": [],
   "source": [
    "from fractalai.swarm_wave import SwarmWave\n",
    "import time"
   ]
  },
  {
   "cell_type": "code",
   "execution_count": 5,
   "metadata": {},
   "outputs": [],
   "source": [
    "SwarmWave?"
   ]
  },
  {
   "cell_type": "markdown",
   "metadata": {},
   "source": [
    "# This algorithhm is made for solving discrete Markov decision processes when a perfect model is available"
   ]
  },
  {
   "cell_type": "markdown",
   "metadata": {},
   "source": [
    "In this context, if you need to generate data to train a neural network, IO is now your bottleneck."
   ]
  },
  {
   "cell_type": "code",
   "execution_count": 2,
   "metadata": {},
   "outputs": [],
   "source": [
    "env_name = \"MsPacman-v0\"\n",
    "n_samples = None  # Maximum number of samples allowed\n",
    "score_limit = 10000  # Stop the sampling when this score is reached\n",
    "n_walkers = 50  # Maximum witdh of the tree containing al the trajectories\n",
    "render_every = 5  # print statistics every n iterations.\n",
    "balance = 1  # Balance exploration vs exploitation\n",
    "save_tree = True # Save the data generated\n"
   ]
  },
  {
   "cell_type": "code",
   "execution_count": 3,
   "metadata": {
    "scrolled": false
   },
   "outputs": [
    {
     "name": "stdout",
     "output_type": "stream",
     "text": [
      "Environment: MsPacman-v0\n",
      "Total samples: 27950 Progress 11.80%\n",
      "Reward: mean 1145.80 | dispersion 60.00 | max 1180.00 | min 1120.00 | std 19.61\n",
      "Episode length: mean 314.48 | dispersion 7.00 | max 318.00 | min 311.00 | std 1.58\n",
      "Walkers: 50 deads 0\n",
      "Efficiency 0.00%\n",
      "Generated 0.0 Examples | 0.00 samples per example.\n",
      "Status: Playing...\n"
     ]
    }
   ],
   "source": [
    "s = SwarmWave(env_name=env_name, n_samples=n_samples,\n",
    "              score_limit=score_limit, n_walkers=n_walkers,\n",
    "              render_every=render_every, balance=balance,\n",
    "              save_tree=save_tree)\n",
    "\n",
    "s.run_swarm()\n"
   ]
  },
  {
   "cell_type": "code",
   "execution_count": 5,
   "metadata": {
    "scrolled": true
   },
   "outputs": [],
   "source": [
    "# Get the observations belonging to the highest score game\n",
    "obs = s.tree.get_branch(leaf_id= s.walkers_id[s.rewards.argmax()])\n",
    "# s.rewards.tolist() # Uncomment to see the scores for each walker"
   ]
  },
  {
   "cell_type": "code",
   "execution_count": 6,
   "metadata": {},
   "outputs": [],
   "source": [
    "import time\n",
    "from gym.envs.classic_control import rendering\n",
    "# Run this cell to visualize the sampled game\n",
    "def render_game(images, viewer=None, sleep=0.01):\n",
    "    if viewer is None:\n",
    "        viewer = rendering.SimpleImageViewer()\n",
    "    for img in images:\n",
    "        viewer.imshow(img)\n",
    "        time.sleep(sleep)\n",
    "    return viewer\n",
    "viewer = render_game(obs)"
   ]
  },
  {
   "cell_type": "code",
   "execution_count": null,
   "metadata": {},
   "outputs": [],
   "source": []
  }
 ],
 "metadata": {
  "kernelspec": {
   "display_name": "Python 3",
   "language": "python",
   "name": "python3"
  },
  "language_info": {
   "codemirror_mode": {
    "name": "ipython",
    "version": 3
   },
   "file_extension": ".py",
   "mimetype": "text/x-python",
   "name": "python",
   "nbconvert_exporter": "python",
   "pygments_lexer": "ipython3",
   "version": "3.6.3"
  }
 },
 "nbformat": 4,
 "nbformat_minor": 2
}
