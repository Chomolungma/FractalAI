{
 "cells": [
  {
   "cell_type": "code",
   "execution_count": 1,
   "metadata": {},
   "outputs": [],
   "source": [
    "from fractalai.model import RandomDiscreteModel\n",
    "from fractalai.environment import ExternalProcess, ParallelEnvironment, AtariEnvironment\n",
    "from fractalai.swarm_wave import SwarmWave\n",
    "import time"
   ]
  },
  {
   "cell_type": "code",
   "execution_count": 2,
   "metadata": {},
   "outputs": [],
   "source": [
    "# SwarmWave?"
   ]
  },
  {
   "cell_type": "markdown",
   "metadata": {},
   "source": [
    "# This algorithhm is made for solving discrete Markov decision processes when a perfect model is available"
   ]
  },
  {
   "cell_type": "markdown",
   "metadata": {},
   "source": [
    "In this context, if you need to generate data to train a neural network, IO is now your bottleneck."
   ]
  },
  {
   "cell_type": "code",
   "execution_count": 3,
   "metadata": {},
   "outputs": [],
   "source": [
    "name = \"MsPacman-ram-v0\"\n",
    "skip_frames = 0  # Number of frames to skip at the beginning\n",
    "dt_mean = 5  # Apply the same action n times in average\n",
    "dt_std = 2 # Repeat same action a variable number of times\n",
    "n_samples = 8 * 1e6  # Maximum number of samples allowed\n",
    "reward_limit = 10000  # Stop the sampling when this score is reached\n",
    "n_walkers = 100  # Maximum witdh of the tree containing al the trajectories\n",
    "render_every = 10  # print statistics every n iterations.\n",
    "balance = 1  # Balance exploration vs exploitation\n",
    "save_data = True # Save the data generated\n"
   ]
  },
  {
   "cell_type": "code",
   "execution_count": 4,
   "metadata": {
    "scrolled": true
   },
   "outputs": [],
   "source": [
    "env = ParallelEnvironment(name=name,env_class=AtariEnvironment,\n",
    "                          blocking=False, n_workers=8)  # We will play an Atari game\n",
    "model = RandomDiscreteModel(max_wakers=n_walkers,\n",
    "                            n_actions=env.n_actions) # The Agent will take discrete actions at random"
   ]
  },
  {
   "cell_type": "code",
   "execution_count": null,
   "metadata": {
    "scrolled": false
   },
   "outputs": [
    {
     "name": "stdout",
     "output_type": "stream",
     "text": [
      "Environment: MsPacman-ram-v0 | Walkers: 100 | Deaths: 0 | data_size 131\n",
      "Total samples: 195368 Progress: 100.01%\n",
      "Reward: mean 9607.61 | Dispersion: 721.00 | max 10001.00 | min 9280.00 | std 199.99\n",
      "Episode length: mean 2266.06 | Dispersion 68.00 | max 2301.00 | min 2233.00 | std 14.69\n",
      "Dt: mean 4.98 | Dispersion: 9.00 | max 10.00 | min 1.00 | std 1.76\n",
      "Status: Score limit reached.\n",
      "Efficiency 0.85%\n",
      "Generated 1669 Examples | 117.06 samples per example.\n",
      "\n"
     ]
    }
   ],
   "source": [
    "s = SwarmWave(model=model, env=env, n_walkers=n_walkers, reward_limit=reward_limit, \n",
    "              render_every=render_every, balance=balance, save_data=save_data,\n",
    "              dt_mean=dt_mean, dt_std=dt_std, accumulate_rewards=True)\n",
    "s.run_swarm(print_swarm=True)\n"
   ]
  },
  {
   "cell_type": "code",
   "execution_count": null,
   "metadata": {},
   "outputs": [],
   "source": [
    "s.render_game()"
   ]
  },
  {
   "cell_type": "code",
   "execution_count": null,
   "metadata": {},
   "outputs": [],
   "source": []
  }
 ],
 "metadata": {
  "kernelspec": {
   "display_name": "Python 3",
   "language": "python",
   "name": "python3"
  },
  "language_info": {
   "codemirror_mode": {
    "name": "ipython",
    "version": 3
   },
   "file_extension": ".py",
   "mimetype": "text/x-python",
   "name": "python",
   "nbconvert_exporter": "python",
   "pygments_lexer": "ipython3",
   "version": "3.6.3"
  }
 },
 "nbformat": 4,
 "nbformat_minor": 2
}
